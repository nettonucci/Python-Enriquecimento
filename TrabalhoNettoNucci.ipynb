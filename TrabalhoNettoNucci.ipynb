{
 "cells": [
  {
   "cell_type": "code",
   "execution_count": 267,
   "metadata": {},
   "outputs": [],
   "source": [
    "import requests\n",
    "import csv\n",
    "import pandas as pd\n",
    "from bs4 import BeautifulSoup"
   ]
  },
  {
   "cell_type": "code",
   "execution_count": 268,
   "metadata": {},
   "outputs": [],
   "source": [
    "PAGE_LOAD_TIMEOUT = 5\n",
    "TIME_SLEEP = 3\n",
    "\n",
    "DATA_BREAK = 10\n",
    "PAGE_LIMIT = 50"
   ]
  },
  {
   "cell_type": "code",
   "execution_count": 269,
   "metadata": {},
   "outputs": [],
   "source": [
    "git_users= ['guilhermefarto', 'RafaelPerbelineSupreme', 'alessandrosilva10', 'nettonucci', 'TobiasEvangelista', 'joao-fernandes-99', 'LucasMPrates', 'femoratolima' ]"
   ]
  },
  {
   "cell_type": "code",
   "execution_count": 270,
   "metadata": {},
   "outputs": [],
   "source": [
    "def search_gituserinfo(user):\n",
    "    \n",
    "    response = requests.get(f'https://api.github.com/users/{user}')\n",
    "    \n",
    "    user_details = {}\n",
    "    user_details['user_id'] = response.json()['id']\n",
    "    user_details['user_login'] = response.json()['login']\n",
    "    user_details['user_name'] = response.json()['name']\n",
    "    user_details['user_avatar_url'] = response.json()['avatar_url']\n",
    "    user_details['user_location'] = response.json()['location']\n",
    "    \n",
    "    return user_details"
   ]
  },
  {
   "cell_type": "code",
   "execution_count": 271,
   "metadata": {},
   "outputs": [],
   "source": [
    "user_list = {}"
   ]
  },
  {
   "cell_type": "code",
   "execution_count": 272,
   "metadata": {
    "scrolled": true
   },
   "outputs": [
    {
     "name": "stdout",
     "output_type": "stream",
     "text": [
      "{'user_id': 7007095, 'user_login': 'guilhermefarto', 'user_name': 'Guilherme de Cleva Farto', 'user_avatar_url': 'https://avatars1.githubusercontent.com/u/7007095?v=4', 'user_location': 'São Paulo, Brasil'}\n",
      "{'user_id': 50852619, 'user_login': 'RafaelPerbelineSupreme', 'user_name': None, 'user_avatar_url': 'https://avatars0.githubusercontent.com/u/50852619?v=4', 'user_location': None}\n",
      "{'user_id': 29934397, 'user_login': 'alessandrosilva10', 'user_name': None, 'user_avatar_url': 'https://avatars2.githubusercontent.com/u/29934397?v=4', 'user_location': None}\n",
      "{'user_id': 13320548, 'user_login': 'nettonucci', 'user_name': None, 'user_avatar_url': 'https://avatars3.githubusercontent.com/u/13320548?v=4', 'user_location': None}\n",
      "{'user_id': 51771359, 'user_login': 'TobiasEvangelista', 'user_name': 'Tobias Evangelista', 'user_avatar_url': 'https://avatars1.githubusercontent.com/u/51771359?v=4', 'user_location': None}\n",
      "{'user_id': 69994677, 'user_login': 'joao-fernandes-99', 'user_name': None, 'user_avatar_url': 'https://avatars0.githubusercontent.com/u/69994677?v=4', 'user_location': None}\n",
      "{'user_id': 44411558, 'user_login': 'LucasMPrates', 'user_name': None, 'user_avatar_url': 'https://avatars3.githubusercontent.com/u/44411558?v=4', 'user_location': None}\n",
      "{'user_id': 43448363, 'user_login': 'femoratolima', 'user_name': 'Fernando Morato Lima Silva', 'user_avatar_url': 'https://avatars1.githubusercontent.com/u/43448363?v=4', 'user_location': None}\n",
      "{'guilhermefarto': {'user_id': 7007095, 'user_login': 'guilhermefarto', 'user_name': 'Guilherme de Cleva Farto', 'user_avatar_url': 'https://avatars1.githubusercontent.com/u/7007095?v=4', 'user_location': 'São Paulo, Brasil', 'repos': ['vii-semeb-unesp-tupa-2020', 'tdc-sp-2020-palestra-data-science-machine-learning', 'desenv-movel-ads-2019', 'tdc-sp-2019-palestra-arduino_makers', 'arduino-lib-builder', 'sample-thf-crud-customers', 'tdc-poa-2018-workshop-apis', 'tdc-poa-2018-palestra-design_codigo', 'tdc-poa-2018-palestra-arduino_makers', 'stackoverflow', 'java-spark-framework-sample', 'java-compressed-files-poc', 'gateway-remote-config', 'android-autoupdate-apk', 'challenge-accepted', 'java-csv-json', 'quadtree-processing', 'java-arduino-sample', 'java-jdbc-sample', 'MBTS4MA', 'java-base64-html', 'java-client-rest-jwt', 'java-mail-api-freemarker', 'python-autogui-robot', 'arduino-oled-mini-oscilloscope', 'arduino-oled-poc', 'node-rest-api-jwt', 'java-xml-marshaller', 'arduino-libraries', 'java-dependency-injection-poc']}, 'RafaelPerbelineSupreme': {'user_id': 50852619, 'user_login': 'RafaelPerbelineSupreme', 'user_name': None, 'user_avatar_url': 'https://avatars0.githubusercontent.com/u/50852619?v=4', 'user_location': None, 'repos': ['smhapkAngular', 'SocketServer', 'pythonScript', 'ApiNodeCompleto-v1', 'ApiNodeCompleto', 'ApiNodeNotebookBase', 'frontendtux', 'AnalisadorLexicoE-NorseMyth', 'RabbitMQPikaThreadsPython', 'ZeroMQPython', 'frontEndAppRaspBerry', 'frontEndAppRaspBerry1', 'projetoLaravelMarina_01', 'projetoLaravelMarinaESs', 'ProjetoJava_JSP_CRUD', 'HamburgueriaDjango', 'teste']}, 'alessandrosilva10': {'user_id': 29934397, 'user_login': 'alessandrosilva10', 'user_name': None, 'user_avatar_url': 'https://avatars2.githubusercontent.com/u/29934397?v=4', 'user_location': None, 'repos': ['ecommerce_react_node', 'frontendtux', 'phpaes', 'apisocket', 'websocket_fema', 'Trabalho-sobre-Metaprograma--o---JAVA', 'trabalho_metaprogramacao', 'pentest_api', 'laravel2', 'laravel', 'E-commerce', 'Pagamentos', 'Sistema-de-Pizzaria-CSharp', 'Sistema_Pizzaria_Trabalho_C-', 'Java_Fema', 'react-dd-menu']}, 'nettonucci': {'user_id': 13320548, 'user_login': 'nettonucci', 'user_name': None, 'user_avatar_url': 'https://avatars3.githubusercontent.com/u/13320548?v=4', 'user_location': None, 'repos': ['3-Back-end-com-Node', 'credit_card_page', 'GoBarber', 'be_the_hero', 'AirCnC', 'Mainpage', 'loja-nucci', 'sistemaos', 'oscell', 'Sistema', 'panaro2.0', 'panaro2018', 'OS', 'phpbcc', 'SLFBCC2017']}, 'TobiasEvangelista': {'user_id': 51771359, 'user_login': 'TobiasEvangelista', 'user_name': 'Tobias Evangelista', 'user_avatar_url': 'https://avatars1.githubusercontent.com/u/51771359?v=4', 'user_location': None, 'repos': ['perguntas', 'Ordem_servico']}, 'joao-fernandes-99': {'user_id': 69994677, 'user_login': 'joao-fernandes-99', 'user_name': None, 'user_avatar_url': 'https://avatars0.githubusercontent.com/u/69994677?v=4', 'user_location': None, 'repos': ['api-agro', 'projeto-curso-git', 'react-agro']}, 'femoratolima': {'user_id': 43448363, 'user_login': 'femoratolima', 'user_name': 'Fernando Morato Lima Silva', 'user_avatar_url': 'https://avatars1.githubusercontent.com/u/43448363?v=4', 'user_location': None, 'repos': ['angular', 'spring-api', 'spring-boot', 'typescript', 'javascript', 'JPA', 'Java-Util-Wrappers-e-Lambda', 'guiapress', 'comnoz', 'guiaPerguntas', 'trabalho-php-2018']}}\n"
     ]
    }
   ],
   "source": [
    "for user in git_users:\n",
    "    user_details = search_gituserinfo(user)\n",
    "    print(user_details)\n",
    "    name = user_details['user_login']\n",
    "\n",
    "    url = f'https://github.com/{name}?tab=repositories'\n",
    "\n",
    "    repos_gituser = []\n",
    "\n",
    "    sess = requests.Session()\n",
    "\n",
    "    url_content = sess.get(url).content\n",
    "\n",
    "    soup = BeautifulSoup(url_content, 'html.parser')\n",
    "\n",
    "    all_ul = soup.find_all('div', {'id': 'user-repositories-list'})\n",
    "    if all_ul is not None:\n",
    "        all_ul = all_ul[0].find('ul', {'data-filterable-for': 'your-repos-filter'})\n",
    "        if all_ul is not None:\n",
    "            all_ul = all_ul.find_all('li')\n",
    "\n",
    "\n",
    "            for ul in all_ul:\n",
    "                columns = ul.find('a')\n",
    "                #print(columns.string)\n",
    "                repos = columns.string\n",
    "\n",
    "                repos_gituser.append(repos.strip()) \n",
    "\n",
    "\n",
    "\n",
    "                #print (user_details)\n",
    "\n",
    "            user_details['repos'] = repos_gituser\n",
    "\n",
    "            user_list[name] = user_details\n",
    "\n",
    "#print(user_list)\n",
    "    #print (repos_gituser) \n",
    "    #print (user_details)\n",
    "    #print(all_ul.prettify())\n",
    "\n"
   ]
  },
  {
   "cell_type": "code",
   "execution_count": 284,
   "metadata": {},
   "outputs": [],
   "source": [
    "def generate_csv(user_list):\n",
    "    new_user_list = []\n",
    "    \n",
    "    for user, repos in user_list.items():\n",
    "        for repo in repos['repos']:\n",
    "            new_user_list.append({'git_id': repos['user_id'],'name': repos['user_name'], 'user': user, 'Repo': repo, 'Location': repos['user_location'], 'git_avatar': repos['user_avatar_url']})\n",
    "    \n",
    "    dfUsersGit = pd.DataFrame.from_dict(new_user_list, orient='columns')\n",
    "    dfUsersGit.drop_duplicates(inplace=True)\n",
    "    dfUsersGit.to_csv(f'Users_github.csv', sep=';', index=False, encoding='iso-8859-1')"
   ]
  },
  {
   "cell_type": "code",
   "execution_count": 286,
   "metadata": {},
   "outputs": [],
   "source": [
    "generate_csv(user_list)"
   ]
  },
  {
   "cell_type": "code",
   "execution_count": null,
   "metadata": {},
   "outputs": [],
   "source": []
  }
 ],
 "metadata": {
  "kernelspec": {
   "display_name": "Python 3",
   "language": "python",
   "name": "python3"
  },
  "language_info": {
   "codemirror_mode": {
    "name": "ipython",
    "version": 3
   },
   "file_extension": ".py",
   "mimetype": "text/x-python",
   "name": "python",
   "nbconvert_exporter": "python",
   "pygments_lexer": "ipython3",
   "version": "3.8.3"
  }
 },
 "nbformat": 4,
 "nbformat_minor": 4
}
